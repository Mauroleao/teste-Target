{
 "cells": [
  {
   "cell_type": "code",
   "execution_count": 12,
   "metadata": {},
   "outputs": [
    {
     "name": "stdout",
     "output_type": "stream",
     "text": [
      "91\n"
     ]
    }
   ],
   "source": [
    "indice = 13\n",
    "soma = 0\n",
    "K = 0\n",
    "\n",
    "while K < indice:\n",
    "    K += 1\n",
    "    soma += K\n",
    "\n",
    "print(soma)\n"
   ]
  },
  {
   "cell_type": "code",
   "execution_count": 15,
   "metadata": {},
   "outputs": [
    {
     "name": "stdout",
     "output_type": "stream",
     "text": [
      "O número 55 pertence à sequência de Fibonacci.\n"
     ]
    }
   ],
   "source": [
    "def fibonacci(n):\n",
    "    a, b = 0, 1\n",
    "    while a <= n:\n",
    "        if a == n:\n",
    "            return True\n",
    "        a, b = b, a + b\n",
    "    return False\n",
    "\n",
    "numero = int(input(\"Informe um número: \"))\n",
    "if fibonacci(numero):\n",
    "    print(f\"O número {numero} pertence à sequência de Fibonacci.\")\n",
    "else:\n",
    "    print(f\"O número {numero} não pertence à sequência de Fibonacci.\")\n"
   ]
  },
  {
   "cell_type": "code",
   "execution_count": 20,
   "metadata": {},
   "outputs": [
    {
     "name": "stdout",
     "output_type": "stream",
     "text": [
      "Menor valor de faturamento: R$3847.48\n",
      "Maior valor de faturamento: R$48924.24\n",
      "Dias com faturamento acima da média: 6\n"
     ]
    }
   ],
   "source": [
    "import json\n",
    "from datetime import datetime, timedelta\n",
    "\n",
    "# Caminho para o arquivo JSON\n",
    "caminho_arquivo = r'C:\\Users\\mauro\\Desktop\\Arquivos teste\\dados.json'\n",
    "\n",
    "# Abrir e carregar o conteúdo do arquivo JSON\n",
    "with open(caminho_arquivo, 'r') as arquivo:\n",
    "    faturamento = json.load(arquivo)\n",
    "\n",
    "# Função para verificar se um dia é fim de semana\n",
    "def semana(dia):\n",
    "    data = datetime(2024, 9, dia)  # Supondo que os dados são de setembro de 2024\n",
    "    return data.weekday() >= 5  # 5 = Sábado, 6 = Domingo\n",
    "\n",
    "# Lista de feriados (exemplo)\n",
    "feriados = ['2024-09-07', '2024-09-20']  # Adicione os feriados relevantes\n",
    "\n",
    "# Converter feriados para objetos datetime\n",
    "feriados = [datetime.strptime(data, '%Y-%m-%d') for data in feriados]\n",
    "\n",
    "valores = [dia[\"valor\"] for dia in faturamento if dia[\"valor\"] > 0 and not semana(dia[\"dia\"]) and datetime(2024, 9, dia[\"dia\"]) not in feriados]\n",
    "menorValor = min(valores)\n",
    "maiorValor = max(valores)\n",
    "mediaMensal = sum(valores) / len(valores)\n",
    "diasAcimaDaMedia = sum(1 for valor in valores if valor > mediaMensal)\n",
    "\n",
    "print(f\"Menor valor de faturamento: R${menorValor:.2f}\")\n",
    "print(f\"Maior valor de faturamento: R${maiorValor:.2f}\")\n",
    "print(f\"Dias com faturamento acima da média: {diasAcimaDaMedia}\")\n"
   ]
  },
  {
   "cell_type": "code",
   "execution_count": 14,
   "metadata": {},
   "outputs": [
    {
     "name": "stdout",
     "output_type": "stream",
     "text": [
      "SP: 37.53%\n",
      "RJ: 20.29%\n",
      "MG: 16.17%\n",
      "ES: 15.03%\n",
      "Outros: 10.98%\n"
     ]
    }
   ],
   "source": [
    "faturamento = {\n",
    "    \"SP\": 67836.43,\n",
    "    \"RJ\": 36678.66,\n",
    "    \"MG\": 29229.88,\n",
    "    \"ES\": 27165.48,\n",
    "    \"Outros\": 19849.53\n",
    "}\n",
    "\n",
    "total = sum(faturamento.values())\n",
    "\n",
    "percentuais = {estado: (valor / total) * 100 for estado, valor in faturamento.items()}\n",
    "\n",
    "for estado, percentual in percentuais.items():\n",
    "    print(f\"{estado}: {percentual:.2f}%\")\n"
   ]
  },
  {
   "cell_type": "code",
   "execution_count": 13,
   "metadata": {},
   "outputs": [
    {
     "name": "stdout",
     "output_type": "stream",
     "text": [
      "String invertida: oruam\n"
     ]
    }
   ],
   "source": [
    "def inverter_string(s):\n",
    "    return s[::-1]\n",
    "\n",
    "string = input(\"Informe uma string: \")\n",
    "print(f\"String invertida: {inverter_string(string)}\")"
   ]
  }
 ],
 "metadata": {
  "kernelspec": {
   "display_name": "Python 3",
   "language": "python",
   "name": "python3"
  },
  "language_info": {
   "codemirror_mode": {
    "name": "ipython",
    "version": 3
   },
   "file_extension": ".py",
   "mimetype": "text/x-python",
   "name": "python",
   "nbconvert_exporter": "python",
   "pygments_lexer": "ipython3",
   "version": "3.12.3"
  }
 },
 "nbformat": 4,
 "nbformat_minor": 2
}
